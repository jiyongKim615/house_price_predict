{
 "cells": [
  {
   "attachments": {},
   "cell_type": "markdown",
   "id": "e1944be2",
   "metadata": {},
   "source": [
    "# 불확실성 추정\n",
    "\n",
    " - 자율주행, 의료 진단 및 재무 예측과 같은 도메인에서 머신러닝을 수행했을 경우, 예측에 대한 실수는 치명적인 결과를 초래하거나 막대한 재정적 손실을 발생시킬 수 있다. 예측에 대한 오류를 감지하고 안전한 조치를 취하는 것이 중요하며, 발생가능한 예측 오차에 대한 정보를 인지하고 라벨을 설정하는 능동적 학습을 통해 올바르게 예측을 하도록 모델을 훈련하는 것이 필요하다. \n",
    " \n",
    " \n",
    " - 예측 불확실성 추정은 예측에 대한 오류 또는 실수를 감자하는데 사용될 수 있다. 일반적으로 예측 모델은 예측 오차가 큰 상황에서 높은 불확실성을 나타내는데 불확실성의 원인에 따라 다르게 조치된다. 많은 연구에서 불확실성 발생 원인을 크게 두 가지로 요약한다. 첫 번째는 aleatoric 불확실성(데이터 불확실성)과 두 번째 epistemic uncertainty(모델 불확실성)이다. \n",
    " \n",
    " \n",
    " - 데이터 불확실성에 의해 발생된 예측 불확실성은 (1) 데이터에 내재된 노이즈에 의해 발생되며 (2) 추가적으로 더 많은 데이터를 학습해도 오차를 줄 일 수 없는 특성을 가졌다. 모델 불확실성에 의해 발생된 예측 불확실성은 모델이 데이터에 대해 얼마나 적합하게 구축이 되었는지 및  데이터의 어떤 특징을 학습하는지에 대해 모르는 정도에 영향을 받고, 학습이 잘 안 된 부분에 대해 더 많은 데이터가 학습된다면 불확실성이 줄여질 수 있는 특성을 가지고 있다. \n"
   ]
  },
  {
   "cell_type": "markdown",
   "id": "9c6ab1e0",
   "metadata": {},
   "source": [
    " - 다음은 불확실성 추정에 관한 예시이다. "
   ]
  },
  {
   "cell_type": "code",
   "execution_count": 17,
   "id": "68f091ce",
   "metadata": {},
   "outputs": [],
   "source": [
    "import numpy as np\n",
    "import math\n",
    "from catboost import Pool, CatBoostRegressor\n",
    "import seaborn as sns\n",
    "import matplotlib.pyplot as plt"
   ]
  },
  {
   "attachments": {},
   "cell_type": "markdown",
   "id": "27c7dec8",
   "metadata": {},
   "source": [
    "- 각각 9개의 값을 갖는 두 개의 범주형 특성 x₁ 및 x₂가 있다고 가정하고(가능한 특성 조합이 81개가 존재), Target(y)은 다음과 같이 따른다. \n",
    "\n",
    "- y = 평균(x₁,x₂) + eps(x₁,x₂)\n",
    "\n",
    "- 여기서 평균 (x₁,x₂) 은 알려지지 않은 고정 값이고 eps (x₁,x₂) 는 평균이 0이고 분산이 var (x₁,x₂) 인 정규 분포 잡음(즉, 데이터 불확실성)이다. 즉, 평균 (x₁,x₂) 은 무작위로 생성되고 var (x₁,x₂) 는 다음과 같이 분포되는 두 개의 값(0.01 및 0.04)로 이뤄진다. "
   ]
  },
  {
   "cell_type": "code",
   "execution_count": 18,
   "id": "b87466f4",
   "metadata": {},
   "outputs": [],
   "source": [
    "# 평균과 분산을 생성하는 함수 정의\n",
    "def gen_parameters(noise=0.01, seed=0):\n",
    "    \n",
    "    np.random.seed(seed)\n",
    "    \n",
    "    mean = np.random.rand(9, 9)\n",
    "    \n",
    "    figure = np.array([\n",
    "        [1, 1, 1, 1, 1, 1, 1, 1, 1],\n",
    "        [1, 1, 1, 1, 1, 1, 1, 1, 1],\n",
    "        [1, 1, 4, 4, 4, 4, 4, 1, 1],\n",
    "        [1, 1, 4, 0, 0, 0, 4, 1, 1],\n",
    "        [1, 1, 4, 0, 0, 0, 4, 1, 1],\n",
    "        [1, 1, 4, 0, 0, 0, 4, 1, 1],\n",
    "        [1, 1, 4, 4, 4, 4, 4, 1, 1],\n",
    "        [1, 1, 1, 1, 1, 1, 1, 1, 1],\n",
    "        [1, 1, 1, 1, 1, 1, 1, 1, 1]\n",
    "    ])\n",
    "\n",
    "    var = figure*noise\n",
    "    \n",
    "    return mean, var"
   ]
  },
  {
   "cell_type": "code",
   "execution_count": 21,
   "id": "17d14756",
   "metadata": {},
   "outputs": [
    {
     "name": "stdout",
     "output_type": "stream",
     "text": [
      "데이터 불확실성(분산)에 대한 그래프: white 영역은 학습 데이터가 없음을 의미하는 이상치\n"
     ]
    },
    {
     "data": {
      "image/png": "[encoded data removed]",
      "text/plain": [
       "<Figure size 432x288 with 2 Axes>"
      ]
     },
     "metadata": {
      "needs_background": "light"
     },
     "output_type": "display_data"
    }
   ],
   "source": [
    "# 시각화\n",
    "mean, var = gen_parameters()\n",
    "print(\"데이터 불확실성(분산)에 대한 그래프: white 영역은 학습 데이터가 없음을 의미하는 이상치\")\n",
    "\n",
    "sns.heatmap(var, cmap=\"Blues\", vmax=0.05)\n",
    "plt.show()"
   ]
  },
  {
   "cell_type": "code",
   "execution_count": 5,
   "id": "e4555b38",
   "metadata": {},
   "outputs": [],
   "source": [
    "# 학습 및 검증 데이터 생성하는 함수 정의\n",
    "def generate_training_data(n_samples, mean, var, num_cat=9, seed=0):\n",
    "    np.random.seed(seed)\n",
    "    train = []\n",
    "    target = []\n",
    "    val = []\n",
    "    val_target = []\n",
    "    for i in range(num_cat):\n",
    "        for j in range(num_cat):\n",
    "            if var[i, j] == 0:\n",
    "                continue\n",
    "            for _ in range(n_samples):\n",
    "                train.append([i, j])\n",
    "                val.append([i, j])\n",
    "                target.append(np.random.normal(mean[i, j], math.sqrt(var[i, j])))\n",
    "                val_target.append(np.random.normal(mean[i, j], math.sqrt(var[i, j])))\n",
    "                \n",
    "    train = np.asarray(train)\n",
    "    target = np.asarray(target)\n",
    "\n",
    "    return train, target, val, val_target"
   ]
  },
  {
   "cell_type": "code",
   "execution_count": 6,
   "id": "65e1cd22",
   "metadata": {},
   "outputs": [],
   "source": [
    "# 학습 및 검증 데이터 생성\n",
    "train, target, val, val_target = generate_training_data(1000, mean, var)\n",
    "\n",
    "train_pool = Pool(train, target, cat_features = [0, 1])\n",
    "val_pool = Pool(val, val_target, cat_features = [0, 1])\n",
    "\n",
    "# 모든 가능한 특성 조합으로 구성된 테스트 데이터 생성\n",
    "num_cat = 9\n",
    "test = np.asarray([[i, j] for i in range(num_cat) for j in range(num_cat)])"
   ]
  },
  {
   "attachments": {},
   "cell_type": "markdown",
   "id": "2f932769",
   "metadata": {},
   "source": [
    "- RMSE 손실로 최적화된 표준 모델은 평균(x1, x2)만 예측할 수 있다. \n",
    "- 그러나 target(y)의 분산, 즉 데이터 불확실성은 추정하기 어렵다.\n",
    "- 데이터 불확실성을 추정하기 위해서는 평균과 분산 모두 예측이 필요하다. \n",
    "- CatBoost 모델에는 RMSEWithUncertainty라는 손실 함수가 있다. \n",
    "- 해당 손실 함수는 NGBoost 알고리즘과 유사하게 음의 로그 가능성으로 최적화하고 natural gradients을 사용하여 정규 분포의 평균과 분산을 추정한다.\n",
    "- 실제로 해당 손실함수를 적용하면 다음과 같은 분산을 얻는다. "
   ]
  },
  {
   "cell_type": "code",
   "execution_count": 7,
   "id": "b245db81",
   "metadata": {},
   "outputs": [
    {
     "name": "stdout",
     "output_type": "stream",
     "text": [
      "best iteration = 993\n"
     ]
    }
   ],
   "source": [
    "# 평균 값과 데이터 불확실성을 추정\n",
    "\n",
    "model = CatBoostRegressor(iterations=1000, learning_rate=0.2, loss_function='RMSEWithUncertainty',\n",
    "                          verbose=False, random_seed=0)\n",
    "\n",
    "model.fit(train_pool, eval_set=val_pool)\n",
    "print(\"best iteration =\", model.get_best_iteration())\n",
    "preds = model.predict(test)\n",
    "\n",
    "mean_preds = preds[:, 0] # 첫 번째 예측은 추정된 평균값을 의미함. \n",
    "var_preds = preds[:, 1] # 두 번째 예측은 추정된 분산을 의미함. "
   ]
  },
  {
   "cell_type": "code",
   "execution_count": 22,
   "id": "f1bd6436",
   "metadata": {},
   "outputs": [],
   "source": [
    "# mask 정의: 실제 사각형 내부의 요소에 대한 마스크 (시각화를 위함)\n",
    "mask = np.array([\n",
    "        [1, 1, 1, 1, 1, 1, 1, 1, 1],\n",
    "        [1, 1, 1, 1, 1, 1, 1, 1, 1],\n",
    "        [1, 1, 0, 0, 0, 0, 0, 1, 1],\n",
    "        [1, 1, 0, 0, 0, 0, 0, 1, 1],\n",
    "        [1, 1, 0, 0, 0, 0, 0, 1, 1],\n",
    "        [1, 1, 0, 0, 0, 0, 0, 1, 1],\n",
    "        [1, 1, 0, 0, 0, 0, 0, 1, 1],\n",
    "        [1, 1, 1, 1, 1, 1, 1, 1, 1],\n",
    "        [1, 1, 1, 1, 1, 1, 1, 1, 1]\n",
    "    ])"
   ]
  },
  {
   "cell_type": "code",
   "execution_count": 24,
   "id": "f8b91f08",
   "metadata": {},
   "outputs": [
    {
     "name": "stdout",
     "output_type": "stream",
     "text": [
      "실제 평균 값(with mask):\n"
     ]
    },
    {
     "data": {
      "image/png": "[encoded data removed]",
      "text/plain": [
       "<Figure size 432x288 with 2 Axes>"
      ]
     },
     "metadata": {
      "needs_background": "light"
     },
     "output_type": "display_data"
    },
    {
     "name": "stdout",
     "output_type": "stream",
     "text": [
      "예측된 평균 값(with mask):\n"
     ]
    },
    {
     "data": {
      "image/png": "[encoded data removed]",
      "text/plain": [
       "<Figure size 432x288 with 2 Axes>"
      ]
     },
     "metadata": {
      "needs_background": "light"
     },
     "output_type": "display_data"
    }
   ],
   "source": [
    "print(\"실제 평균 값(with mask):\")\n",
    "sns.heatmap(mean*mask, cmap=\"Reds\")\n",
    "plt.show()\n",
    "\n",
    "print(\"예측된 평균 값(with mask):\")\n",
    "sns.heatmap(mean_preds.reshape([num_cat, num_cat])*mask, cmap=\"Reds\")\n",
    "plt.show()"
   ]
  },
  {
   "cell_type": "code",
   "execution_count": 25,
   "id": "098d4d39",
   "metadata": {},
   "outputs": [
    {
     "name": "stdout",
     "output_type": "stream",
     "text": [
      "추정된 데이터 불확실성:\n"
     ]
    },
    {
     "data": {
      "image/png": "[encoded data removed]",
      "text/plain": [
       "<Figure size 432x288 with 2 Axes>"
      ]
     },
     "metadata": {
      "needs_background": "light"
     },
     "output_type": "display_data"
    }
   ],
   "source": [
    "print(\"추정된 데이터 불확실성:\")\n",
    "sns.heatmap(var_preds.reshape([num_cat, num_cat]), cmap=\"Reds\", vmin=0, vmax=0.05)\n",
    "plt.show()"
   ]
  },
  {
   "attachments": {},
   "cell_type": "markdown",
   "id": "c176b07b",
   "metadata": {},
   "source": [
    "- 그래프을 통해 CatBoost가 사각형 경계선과 사각형 외부의 분산을 성공적으로 예측하는 것을 볼 수 있다. \n",
    "- 다만 심장 내부에는 훈련 데이터가 없으므로 해당 영역의 예측 결과는 다소 실제와 다르다. \n",
    "- 즉, 모델 불확실성에 대한 추정이 필요하다. \n",
    "- 이렇게 데이터의 노이즈를 추정하여 데이터 불확실성을 추정할 수 있다. \n",
    "- 그러나 특정 영역의 학습 데이터 부족으로 발생되는 모델 불확실성을 추정하기 위해 추가적으로 모델의 앙상블이 필요하다. \n",
    "- 해당 아이디어의 출발은 모든 모델이 만약 입력 데이터를 잘 이해했다면 모두 유사한(낮은 모델 불확실성) 예측 결과를 만들어내는 반면, \n",
    "- 만약 입력 데이터를 이해하지 못한다면 다양한(높은 모델 불확실성) 예측 결과를 제공하게 된다. \n",
    "- 회귀에서는 모델 불확실성은 여러 모델의 분산의 평균을 통해 얻을 수 있다. \n",
    "(주의할 것은 이것이 단일 모델의 예측된 분산과 다르다).  "
   ]
  },
  {
   "attachments": {},
   "cell_type": "markdown",
   "id": "d7c5ef97",
   "metadata": {},
   "source": [
    "- 얻은(무작위) 예측이 잘 분산될 수 있게 posterior_sampling 옵션을 사용하여 모델을 생성한다. \n",
    "(A. Ustimenko, L. Prokhorenkova and A. Malinin, Uncertainty in Gradient Boosting via Ensembles” (2020), arXiv preprint arXiv:2006.10562참고)\n",
    "- 여러 모델에 대한 앙상블 모델을 구축한 뒤 다음과 같이 모델 불확실성을 추정한다. \n",
    "- 모델 불확실성 = np.var(ens_preds, axis=0)[:, 0]"
   ]
  },
  {
   "cell_type": "code",
   "execution_count": 11,
   "id": "c9d69bc0",
   "metadata": {},
   "outputs": [],
   "source": [
    "def ensemble(train_pool, val_pool, num_samples=10, iters=1000, lr=0.2):\n",
    "    ens_preds = []\n",
    "    for seed in range(num_samples):\n",
    "        model = CatBoostRegressor(random_seed=seed, iterations=iters, learning_rate=lr, \n",
    "                                  loss_function='RMSEWithUncertainty', posterior_sampling=True,\n",
    "                                  verbose=False)\n",
    "        model.fit(train_pool, eval_set=val_pool)\n",
    "        ens_preds.append(model.predict(test))\n",
    "    return ens_preds"
   ]
  },
  {
   "cell_type": "code",
   "execution_count": 12,
   "id": "9ab923da",
   "metadata": {},
   "outputs": [
    {
     "name": "stdout",
     "output_type": "stream",
     "text": [
      "Knowledge uncertainty via ensemble:\n"
     ]
    },
    {
     "data": {
      "image/png": "[encoded data removed]",
      "text/plain": [
       "<Figure size 432x288 with 2 Axes>"
      ]
     },
     "metadata": {
      "needs_background": "light"
     },
     "output_type": "display_data"
    },
    {
     "name": "stdout",
     "output_type": "stream",
     "text": [
      "Average predicted data uncertainty:\n"
     ]
    },
    {
     "data": {
      "image/png": "[encoded data removed]",
      "text/plain": [
       "<Figure size 432x288 with 2 Axes>"
      ]
     },
     "metadata": {
      "needs_background": "light"
     },
     "output_type": "display_data"
    }
   ],
   "source": [
    "ens_preds = ensemble(train_pool, val_pool, num_samples=10, iters=1000, lr=0.2)\n",
    "ens_preds = np.asarray(ens_preds)\n",
    "data = np.mean(ens_preds, axis=0)[:, 1] # average estimated data uncertainty\n",
    "knowledge = np.var(ens_preds, axis=0)[:, 0] # estimated knowledge uncertainty\n",
    "\n",
    "print(\"Knowledge uncertainty via ensemble:\")            \n",
    "sns.heatmap(knowledge.reshape([num_cat, num_cat]), cmap=\"Reds\")\n",
    "plt.show()\n",
    "\n",
    "print(\"Average predicted data uncertainty:\")            \n",
    "sns.heatmap(data.reshape([num_cat, num_cat]), cmap=\"Reds\", vmin=0, vmax=0.05)\n",
    "plt.show()"
   ]
  },
  {
   "attachments": {},
   "cell_type": "markdown",
   "id": "cca36057",
   "metadata": {},
   "source": [
    "- 그래프를 통해 앙상블 모델이 사각형 내부의 모델 불확실성을 올바르게 감지한 것을 확인할 수 있다. \n",
    "- 즉, 앙상블 모델을 통해 추정하는 방식을 통해 모델의 불확실성을 추정할 수 있다. \n",
    "- 그러나 실제로 여러 모델의 앙상블을 훈련하는 데 비용이 너무 커지는 이슈가 있다. \n",
    "- 가장 이상적인 방식은 단일 모델을 훈련하여 예측 불확실성을 감지하는 것이다. \n",
    "- 단일 훈련 모델에서 얻은 가상 앙상블 방식을 사용할 수 있다."
   ]
  },
  {
   "cell_type": "code",
   "execution_count": 13,
   "id": "6c73bf57",
   "metadata": {},
   "outputs": [],
   "source": [
    "def virt_ensemble(train_pool, val_pool, num_samples=10, iters=1000, lr=0.2, seed=0):\n",
    "    ens_preds = []\n",
    "    model = CatBoostRegressor(iterations=iters, learning_rate=lr, loss_function='RMSEWithUncertainty', \n",
    "                              posterior_sampling=True, verbose=False, random_seed=seed)\n",
    "    model.fit(train_pool, eval_set=val_pool)\n",
    "    ens_preds = model.virtual_ensembles_predict(test, prediction_type='VirtEnsembles', virtual_ensembles_count=num_samples)\n",
    "    return ens_preds"
   ]
  },
  {
   "cell_type": "code",
   "execution_count": null,
   "id": "b7ce80f2",
   "metadata": {},
   "outputs": [],
   "source": [
    "# 추정된 결과는 다음과 같다. "
   ]
  },
  {
   "cell_type": "code",
   "execution_count": 26,
   "id": "425832f2",
   "metadata": {
    "scrolled": true
   },
   "outputs": [
    {
     "name": "stdout",
     "output_type": "stream",
     "text": [
      "앙상블 모델을 통해 추정한 모델 불확실성 시각화 그래프:\n"
     ]
    },
    {
     "data": {
      "image/png": "[encoded data removed]",
      "text/plain": [
       "<Figure size 432x288 with 2 Axes>"
      ]
     },
     "metadata": {
      "needs_background": "light"
     },
     "output_type": "display_data"
    },
    {
     "name": "stdout",
     "output_type": "stream",
     "text": [
      "추정한 데이터 불확실성을 시각화한 그래프:\n"
     ]
    },
    {
     "data": {
      "image/png": "[encoded data removed]",
      "text/plain": [
       "<Figure size 432x288 with 2 Axes>"
      ]
     },
     "metadata": {
      "needs_background": "light"
     },
     "output_type": "display_data"
    }
   ],
   "source": [
    "ens_preds = virt_ensemble(train_pool, val_pool, num_samples=10, iters=1000, lr=0.2)\n",
    "\n",
    "ens_preds = np.asarray(ens_preds)\n",
    "ens_preds = ens_preds\n",
    "\n",
    "data = np.mean(ens_preds, axis = 1)[:,1]\n",
    "knowledge = np.var(ens_preds, axis = 1)[:,0]\n",
    "\n",
    "print(\"앙상블 모델을 통해 추정한 모델 불확실성 시각화 그래프:\")\n",
    "sns.heatmap(knowledge.reshape([num_cat,num_cat]), cmap=\"Reds\")\n",
    "plt.show()\n",
    "\n",
    "print(\"추정한 데이터 불확실성을 시각화한 그래프:\")\n",
    "sns.heatmap(data.reshape([num_cat,num_cat]), cmap=\"Reds\", vmax = 0.05)\n",
    "plt.show()"
   ]
  },
  {
   "attachments": {},
   "cell_type": "markdown",
   "id": "7b0c0e95",
   "metadata": {},
   "source": [
    "- 그래프를 통해 모델 불확실성에 대한 예측 절대값은 훨씬 작아진 것을 확인할 수 있다. \n",
    "- 그러나 여전히 비어 있는 영역(이상치)에 대해 성공적으로 감지한 것을 확인할 수 있다. \n",
    "- Prediction_type에 대해 여러 모델의 예측을 반환하는 'VirtEnsembles' 대신 'TotalUncertainty'을 사용하여 동일한 결과를 얻을 수 있다. \n",
    "- 해당 Prediction_type경우 CatBoost는 가상 앙상블을 사용하여 모든 유형의 불확실성을 계산합니다. \n",
    "- 즉, [평균 예측, 모델 불확실성, 데이터 불확실성] 통계를 반환한다. "
   ]
  },
  {
   "cell_type": "code",
   "execution_count": 15,
   "id": "25c4b5ea",
   "metadata": {},
   "outputs": [],
   "source": [
    "model = CatBoostRegressor(iterations=1000, learning_rate=0.2, loss_function='RMSEWithUncertainty', \n",
    "                          posterior_sampling=True, verbose=False, random_seed=0)\n",
    "model.fit(train_pool, eval_set=val_pool)\n",
    "preds = model.virtual_ensembles_predict(test, prediction_type='TotalUncertainty', virtual_ensembles_count=10)"
   ]
  },
  {
   "cell_type": "code",
   "execution_count": 16,
   "id": "3b2cca6c",
   "metadata": {},
   "outputs": [
    {
     "name": "stdout",
     "output_type": "stream",
     "text": [
      "Knowledge uncertainty via virtual ensemble:\n"
     ]
    },
    {
     "data": {
      "image/png": "[encoded data removed]",
      "text/plain": [
       "<Figure size 432x288 with 2 Axes>"
      ]
     },
     "metadata": {
      "needs_background": "light"
     },
     "output_type": "display_data"
    },
    {
     "name": "stdout",
     "output_type": "stream",
     "text": [
      "Average predicted data uncertainty:\n"
     ]
    },
    {
     "data": {
      "image/png": "[encoded data removed]",
      "text/plain": [
       "<Figure size 432x288 with 2 Axes>"
      ]
     },
     "metadata": {
      "needs_background": "light"
     },
     "output_type": "display_data"
    }
   ],
   "source": [
    "mean_preds = preds[:,0] # mean values predicted by a virtual ensemble\n",
    "\n",
    "knowledge = preds[:,1] # knowledge uncertainty\n",
    "print(\"Knowledge uncertainty via virtual ensemble:\")\n",
    "sns.heatmap(knowledge.reshape([num_cat,num_cat]), cmap=\"Reds\")\n",
    "plt.show()\n",
    "\n",
    "data = preds[:,2] # estimated data uncertainty\n",
    "print(\"Average predicted data uncertainty:\")\n",
    "sns.heatmap(data.reshape([num_cat,num_cat]), cmap=\"Reds\", vmin = 0, vmax = 0.05)\n",
    "plt.show()"
   ]
  }
 ],
 "metadata": {
  "kernelspec": {
   "display_name": "Python 3 (ipykernel)",
   "language": "python",
   "name": "python3"
  },
  "language_info": {
   "codemirror_mode": {
    "name": "ipython",
    "version": 3
   },
   "file_extension": ".py",
   "mimetype": "text/x-python",
   "name": "python",
   "nbconvert_exporter": "python",
   "pygments_lexer": "ipython3",
   "version": "3.8.8"
  }
 },
 "nbformat": 4,
 "nbformat_minor": 5
}
